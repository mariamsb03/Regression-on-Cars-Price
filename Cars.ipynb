{
 "cells": [
  {
   "cell_type": "markdown",
   "metadata": {},
   "source": [
    "# Analyzing selling price of used cars using Python and Regression Model"
   ]
  },
  {
   "cell_type": "markdown",
   "metadata": {},
   "source": [
    "The aim of this project is predict the price worth of a car. Using data containing information about the used cars, like their price, color, etc. \n",
    "\n",
    "Steps:\n",
    "- Import packages needed \n",
    "- Import the dataset\n",
    "- Perform EDA on the dataset\n",
    "- Perform data visualization to understand the data better\n",
    "- Build the Regression model\n",
    "- Study the accuracy of the model\n",
    "- Test the model"
   ]
  },
  {
   "cell_type": "markdown",
   "metadata": {},
   "source": [
    "Step One: Packages"
   ]
  },
  {
   "cell_type": "code",
   "execution_count": 32,
   "metadata": {},
   "outputs": [],
   "source": [
    "import pandas as pd\n",
    "import numpy as np \n",
    "import matplotlib.pyplot as plt \n",
    "import seaborn as sns \n",
    "import scipy as sp \n"
   ]
  },
  {
   "cell_type": "markdown",
   "metadata": {},
   "source": [
    "Step Two: Import the dataset"
   ]
  },
  {
   "cell_type": "code",
   "execution_count": 33,
   "metadata": {},
   "outputs": [
    {
     "data": {
      "text/html": [
       "<div>\n",
       "<style scoped>\n",
       "    .dataframe tbody tr th:only-of-type {\n",
       "        vertical-align: middle;\n",
       "    }\n",
       "\n",
       "    .dataframe tbody tr th {\n",
       "        vertical-align: top;\n",
       "    }\n",
       "\n",
       "    .dataframe thead th {\n",
       "        text-align: right;\n",
       "    }\n",
       "</style>\n",
       "<table border=\"1\" class=\"dataframe\">\n",
       "  <thead>\n",
       "    <tr style=\"text-align: right;\">\n",
       "      <th></th>\n",
       "      <th>3</th>\n",
       "      <th>?</th>\n",
       "      <th>alfa-romero</th>\n",
       "      <th>gas</th>\n",
       "      <th>std</th>\n",
       "      <th>two</th>\n",
       "      <th>convertible</th>\n",
       "      <th>rwd</th>\n",
       "      <th>front</th>\n",
       "      <th>88.60</th>\n",
       "      <th>...</th>\n",
       "      <th>130</th>\n",
       "      <th>mpfi</th>\n",
       "      <th>3.47</th>\n",
       "      <th>2.68</th>\n",
       "      <th>9.00</th>\n",
       "      <th>111</th>\n",
       "      <th>5000</th>\n",
       "      <th>21</th>\n",
       "      <th>27</th>\n",
       "      <th>13495</th>\n",
       "    </tr>\n",
       "  </thead>\n",
       "  <tbody>\n",
       "    <tr>\n",
       "      <th>0</th>\n",
       "      <td>3</td>\n",
       "      <td>?</td>\n",
       "      <td>alfa-romero</td>\n",
       "      <td>gas</td>\n",
       "      <td>std</td>\n",
       "      <td>two</td>\n",
       "      <td>convertible</td>\n",
       "      <td>rwd</td>\n",
       "      <td>front</td>\n",
       "      <td>88.6</td>\n",
       "      <td>...</td>\n",
       "      <td>130</td>\n",
       "      <td>mpfi</td>\n",
       "      <td>3.47</td>\n",
       "      <td>2.68</td>\n",
       "      <td>9.0</td>\n",
       "      <td>111</td>\n",
       "      <td>5000</td>\n",
       "      <td>21</td>\n",
       "      <td>27</td>\n",
       "      <td>16500</td>\n",
       "    </tr>\n",
       "    <tr>\n",
       "      <th>1</th>\n",
       "      <td>1</td>\n",
       "      <td>?</td>\n",
       "      <td>alfa-romero</td>\n",
       "      <td>gas</td>\n",
       "      <td>std</td>\n",
       "      <td>two</td>\n",
       "      <td>hatchback</td>\n",
       "      <td>rwd</td>\n",
       "      <td>front</td>\n",
       "      <td>94.5</td>\n",
       "      <td>...</td>\n",
       "      <td>152</td>\n",
       "      <td>mpfi</td>\n",
       "      <td>2.68</td>\n",
       "      <td>3.47</td>\n",
       "      <td>9.0</td>\n",
       "      <td>154</td>\n",
       "      <td>5000</td>\n",
       "      <td>19</td>\n",
       "      <td>26</td>\n",
       "      <td>16500</td>\n",
       "    </tr>\n",
       "    <tr>\n",
       "      <th>2</th>\n",
       "      <td>2</td>\n",
       "      <td>164</td>\n",
       "      <td>audi</td>\n",
       "      <td>gas</td>\n",
       "      <td>std</td>\n",
       "      <td>four</td>\n",
       "      <td>sedan</td>\n",
       "      <td>fwd</td>\n",
       "      <td>front</td>\n",
       "      <td>99.8</td>\n",
       "      <td>...</td>\n",
       "      <td>109</td>\n",
       "      <td>mpfi</td>\n",
       "      <td>3.19</td>\n",
       "      <td>3.40</td>\n",
       "      <td>10.0</td>\n",
       "      <td>102</td>\n",
       "      <td>5500</td>\n",
       "      <td>24</td>\n",
       "      <td>30</td>\n",
       "      <td>13950</td>\n",
       "    </tr>\n",
       "    <tr>\n",
       "      <th>3</th>\n",
       "      <td>2</td>\n",
       "      <td>164</td>\n",
       "      <td>audi</td>\n",
       "      <td>gas</td>\n",
       "      <td>std</td>\n",
       "      <td>four</td>\n",
       "      <td>sedan</td>\n",
       "      <td>4wd</td>\n",
       "      <td>front</td>\n",
       "      <td>99.4</td>\n",
       "      <td>...</td>\n",
       "      <td>136</td>\n",
       "      <td>mpfi</td>\n",
       "      <td>3.19</td>\n",
       "      <td>3.40</td>\n",
       "      <td>8.0</td>\n",
       "      <td>115</td>\n",
       "      <td>5500</td>\n",
       "      <td>18</td>\n",
       "      <td>22</td>\n",
       "      <td>17450</td>\n",
       "    </tr>\n",
       "    <tr>\n",
       "      <th>4</th>\n",
       "      <td>2</td>\n",
       "      <td>?</td>\n",
       "      <td>audi</td>\n",
       "      <td>gas</td>\n",
       "      <td>std</td>\n",
       "      <td>two</td>\n",
       "      <td>sedan</td>\n",
       "      <td>fwd</td>\n",
       "      <td>front</td>\n",
       "      <td>99.8</td>\n",
       "      <td>...</td>\n",
       "      <td>136</td>\n",
       "      <td>mpfi</td>\n",
       "      <td>3.19</td>\n",
       "      <td>3.40</td>\n",
       "      <td>8.5</td>\n",
       "      <td>110</td>\n",
       "      <td>5500</td>\n",
       "      <td>19</td>\n",
       "      <td>25</td>\n",
       "      <td>15250</td>\n",
       "    </tr>\n",
       "  </tbody>\n",
       "</table>\n",
       "<p>5 rows × 26 columns</p>\n",
       "</div>"
      ],
      "text/plain": [
       "   3    ?  alfa-romero  gas  std   two  convertible  rwd  front  88.60  ...  \\\n",
       "0  3    ?  alfa-romero  gas  std   two  convertible  rwd  front   88.6  ...   \n",
       "1  1    ?  alfa-romero  gas  std   two    hatchback  rwd  front   94.5  ...   \n",
       "2  2  164         audi  gas  std  four        sedan  fwd  front   99.8  ...   \n",
       "3  2  164         audi  gas  std  four        sedan  4wd  front   99.4  ...   \n",
       "4  2    ?         audi  gas  std   two        sedan  fwd  front   99.8  ...   \n",
       "\n",
       "   130  mpfi  3.47  2.68  9.00  111  5000  21  27  13495  \n",
       "0  130  mpfi  3.47  2.68   9.0  111  5000  21  27  16500  \n",
       "1  152  mpfi  2.68  3.47   9.0  154  5000  19  26  16500  \n",
       "2  109  mpfi  3.19  3.40  10.0  102  5500  24  30  13950  \n",
       "3  136  mpfi  3.19  3.40   8.0  115  5500  18  22  17450  \n",
       "4  136  mpfi  3.19  3.40   8.5  110  5500  19  25  15250  \n",
       "\n",
       "[5 rows x 26 columns]"
      ]
     },
     "execution_count": 33,
     "metadata": {},
     "output_type": "execute_result"
    }
   ],
   "source": [
    "file = pd.read_csv('auto.csv')\n",
    "df=pd.DataFrame(file)\n",
    "df.head()"
   ]
  },
  {
   "cell_type": "markdown",
   "metadata": {},
   "source": [
    "we notice that there are no column names , we have to fix that first "
   ]
  },
  {
   "cell_type": "code",
   "execution_count": 34,
   "metadata": {},
   "outputs": [
    {
     "data": {
      "text/html": [
       "<div>\n",
       "<style scoped>\n",
       "    .dataframe tbody tr th:only-of-type {\n",
       "        vertical-align: middle;\n",
       "    }\n",
       "\n",
       "    .dataframe tbody tr th {\n",
       "        vertical-align: top;\n",
       "    }\n",
       "\n",
       "    .dataframe thead th {\n",
       "        text-align: right;\n",
       "    }\n",
       "</style>\n",
       "<table border=\"1\" class=\"dataframe\">\n",
       "  <thead>\n",
       "    <tr style=\"text-align: right;\">\n",
       "      <th></th>\n",
       "      <th>symboling</th>\n",
       "      <th>normalized-losses</th>\n",
       "      <th>make</th>\n",
       "      <th>fuel-type</th>\n",
       "      <th>aspiration</th>\n",
       "      <th>num-of-doors</th>\n",
       "      <th>body-style</th>\n",
       "      <th>drive-wheels</th>\n",
       "      <th>engine-location</th>\n",
       "      <th>wheel-base</th>\n",
       "      <th>...</th>\n",
       "      <th>engine-size</th>\n",
       "      <th>fuel-system</th>\n",
       "      <th>bore</th>\n",
       "      <th>stroke</th>\n",
       "      <th>compression-ratio</th>\n",
       "      <th>horsepower</th>\n",
       "      <th>peak-rpm</th>\n",
       "      <th>city-mpg</th>\n",
       "      <th>highway-mpg</th>\n",
       "      <th>price</th>\n",
       "    </tr>\n",
       "  </thead>\n",
       "  <tbody>\n",
       "    <tr>\n",
       "      <th>0</th>\n",
       "      <td>3</td>\n",
       "      <td>?</td>\n",
       "      <td>alfa-romero</td>\n",
       "      <td>gas</td>\n",
       "      <td>std</td>\n",
       "      <td>two</td>\n",
       "      <td>convertible</td>\n",
       "      <td>rwd</td>\n",
       "      <td>front</td>\n",
       "      <td>88.6</td>\n",
       "      <td>...</td>\n",
       "      <td>130</td>\n",
       "      <td>mpfi</td>\n",
       "      <td>3.47</td>\n",
       "      <td>2.68</td>\n",
       "      <td>9.0</td>\n",
       "      <td>111</td>\n",
       "      <td>5000</td>\n",
       "      <td>21</td>\n",
       "      <td>27</td>\n",
       "      <td>16500</td>\n",
       "    </tr>\n",
       "    <tr>\n",
       "      <th>1</th>\n",
       "      <td>1</td>\n",
       "      <td>?</td>\n",
       "      <td>alfa-romero</td>\n",
       "      <td>gas</td>\n",
       "      <td>std</td>\n",
       "      <td>two</td>\n",
       "      <td>hatchback</td>\n",
       "      <td>rwd</td>\n",
       "      <td>front</td>\n",
       "      <td>94.5</td>\n",
       "      <td>...</td>\n",
       "      <td>152</td>\n",
       "      <td>mpfi</td>\n",
       "      <td>2.68</td>\n",
       "      <td>3.47</td>\n",
       "      <td>9.0</td>\n",
       "      <td>154</td>\n",
       "      <td>5000</td>\n",
       "      <td>19</td>\n",
       "      <td>26</td>\n",
       "      <td>16500</td>\n",
       "    </tr>\n",
       "    <tr>\n",
       "      <th>2</th>\n",
       "      <td>2</td>\n",
       "      <td>164</td>\n",
       "      <td>audi</td>\n",
       "      <td>gas</td>\n",
       "      <td>std</td>\n",
       "      <td>four</td>\n",
       "      <td>sedan</td>\n",
       "      <td>fwd</td>\n",
       "      <td>front</td>\n",
       "      <td>99.8</td>\n",
       "      <td>...</td>\n",
       "      <td>109</td>\n",
       "      <td>mpfi</td>\n",
       "      <td>3.19</td>\n",
       "      <td>3.40</td>\n",
       "      <td>10.0</td>\n",
       "      <td>102</td>\n",
       "      <td>5500</td>\n",
       "      <td>24</td>\n",
       "      <td>30</td>\n",
       "      <td>13950</td>\n",
       "    </tr>\n",
       "    <tr>\n",
       "      <th>3</th>\n",
       "      <td>2</td>\n",
       "      <td>164</td>\n",
       "      <td>audi</td>\n",
       "      <td>gas</td>\n",
       "      <td>std</td>\n",
       "      <td>four</td>\n",
       "      <td>sedan</td>\n",
       "      <td>4wd</td>\n",
       "      <td>front</td>\n",
       "      <td>99.4</td>\n",
       "      <td>...</td>\n",
       "      <td>136</td>\n",
       "      <td>mpfi</td>\n",
       "      <td>3.19</td>\n",
       "      <td>3.40</td>\n",
       "      <td>8.0</td>\n",
       "      <td>115</td>\n",
       "      <td>5500</td>\n",
       "      <td>18</td>\n",
       "      <td>22</td>\n",
       "      <td>17450</td>\n",
       "    </tr>\n",
       "    <tr>\n",
       "      <th>4</th>\n",
       "      <td>2</td>\n",
       "      <td>?</td>\n",
       "      <td>audi</td>\n",
       "      <td>gas</td>\n",
       "      <td>std</td>\n",
       "      <td>two</td>\n",
       "      <td>sedan</td>\n",
       "      <td>fwd</td>\n",
       "      <td>front</td>\n",
       "      <td>99.8</td>\n",
       "      <td>...</td>\n",
       "      <td>136</td>\n",
       "      <td>mpfi</td>\n",
       "      <td>3.19</td>\n",
       "      <td>3.40</td>\n",
       "      <td>8.5</td>\n",
       "      <td>110</td>\n",
       "      <td>5500</td>\n",
       "      <td>19</td>\n",
       "      <td>25</td>\n",
       "      <td>15250</td>\n",
       "    </tr>\n",
       "  </tbody>\n",
       "</table>\n",
       "<p>5 rows × 26 columns</p>\n",
       "</div>"
      ],
      "text/plain": [
       "   symboling normalized-losses         make fuel-type aspiration num-of-doors  \\\n",
       "0          3                 ?  alfa-romero       gas        std          two   \n",
       "1          1                 ?  alfa-romero       gas        std          two   \n",
       "2          2               164         audi       gas        std         four   \n",
       "3          2               164         audi       gas        std         four   \n",
       "4          2                 ?         audi       gas        std          two   \n",
       "\n",
       "    body-style drive-wheels engine-location  wheel-base  ...  engine-size  \\\n",
       "0  convertible          rwd           front        88.6  ...          130   \n",
       "1    hatchback          rwd           front        94.5  ...          152   \n",
       "2        sedan          fwd           front        99.8  ...          109   \n",
       "3        sedan          4wd           front        99.4  ...          136   \n",
       "4        sedan          fwd           front        99.8  ...          136   \n",
       "\n",
       "   fuel-system  bore  stroke compression-ratio horsepower  peak-rpm city-mpg  \\\n",
       "0         mpfi  3.47    2.68               9.0        111      5000       21   \n",
       "1         mpfi  2.68    3.47               9.0        154      5000       19   \n",
       "2         mpfi  3.19    3.40              10.0        102      5500       24   \n",
       "3         mpfi  3.19    3.40               8.0        115      5500       18   \n",
       "4         mpfi  3.19    3.40               8.5        110      5500       19   \n",
       "\n",
       "  highway-mpg  price  \n",
       "0          27  16500  \n",
       "1          26  16500  \n",
       "2          30  13950  \n",
       "3          22  17450  \n",
       "4          25  15250  \n",
       "\n",
       "[5 rows x 26 columns]"
      ]
     },
     "execution_count": 34,
     "metadata": {},
     "output_type": "execute_result"
    }
   ],
   "source": [
    "headers = [\"symboling\", \"normalized-losses\", \"make\", \"fuel-type\", \"aspiration\",\"num-of-doors\", \"body-style\",\"drive-wheels\", \"engine-location\", \"wheel-base\",\"length\", \"width\",\"height\", \"curb-weight\", \"engine-type\",\"num-of-cylinders\", \"engine-size\",  \"fuel-system\",\"bore\",\"stroke\", \"compression-ratio\", \"horsepower\", \"peak-rpm\",\"city-mpg\",\"highway-mpg\",\"price\"] \n",
    "\n",
    "df.columns=headers\n",
    "\n",
    "df.head()"
   ]
  },
  {
   "cell_type": "markdown",
   "metadata": {},
   "source": [
    "Handeling Missing Data"
   ]
  },
  {
   "cell_type": "code",
   "execution_count": 35,
   "metadata": {},
   "outputs": [
    {
     "name": "stdout",
     "output_type": "stream",
     "text": [
      "<class 'pandas.core.frame.DataFrame'>\n",
      "RangeIndex: 204 entries, 0 to 203\n",
      "Data columns (total 26 columns):\n",
      " #   Column             Non-Null Count  Dtype  \n",
      "---  ------             --------------  -----  \n",
      " 0   symboling          204 non-null    int64  \n",
      " 1   normalized-losses  204 non-null    object \n",
      " 2   make               204 non-null    object \n",
      " 3   fuel-type          204 non-null    object \n",
      " 4   aspiration         204 non-null    object \n",
      " 5   num-of-doors       204 non-null    object \n",
      " 6   body-style         204 non-null    object \n",
      " 7   drive-wheels       204 non-null    object \n",
      " 8   engine-location    204 non-null    object \n",
      " 9   wheel-base         204 non-null    float64\n",
      " 10  length             204 non-null    float64\n",
      " 11  width              204 non-null    float64\n",
      " 12  height             204 non-null    float64\n",
      " 13  curb-weight        204 non-null    int64  \n",
      " 14  engine-type        204 non-null    object \n",
      " 15  num-of-cylinders   204 non-null    object \n",
      " 16  engine-size        204 non-null    int64  \n",
      " 17  fuel-system        204 non-null    object \n",
      " 18  bore               204 non-null    object \n",
      " 19  stroke             204 non-null    object \n",
      " 20  compression-ratio  204 non-null    float64\n",
      " 21  horsepower         204 non-null    object \n",
      " 22  peak-rpm           204 non-null    object \n",
      " 23  city-mpg           204 non-null    int64  \n",
      " 24  highway-mpg        204 non-null    int64  \n",
      " 25  price              204 non-null    object \n",
      "dtypes: float64(5), int64(5), object(16)\n",
      "memory usage: 41.6+ KB\n"
     ]
    }
   ],
   "source": [
    "df.info()"
   ]
  },
  {
   "cell_type": "code",
   "execution_count": 36,
   "metadata": {},
   "outputs": [
    {
     "data": {
      "text/plain": [
       "symboling             0\n",
       "normalized-losses    40\n",
       "make                  0\n",
       "fuel-type             0\n",
       "aspiration            0\n",
       "num-of-doors          2\n",
       "body-style            0\n",
       "drive-wheels          0\n",
       "engine-location       0\n",
       "wheel-base            0\n",
       "length                0\n",
       "width                 0\n",
       "height                0\n",
       "curb-weight           0\n",
       "engine-type           0\n",
       "num-of-cylinders      0\n",
       "engine-size           0\n",
       "fuel-system           0\n",
       "bore                  4\n",
       "stroke                4\n",
       "compression-ratio     0\n",
       "horsepower            2\n",
       "peak-rpm              2\n",
       "city-mpg              0\n",
       "highway-mpg           0\n",
       "price                 4\n",
       "dtype: int64"
      ]
     },
     "execution_count": 36,
     "metadata": {},
     "output_type": "execute_result"
    }
   ],
   "source": [
    "df.replace('?', np.nan, inplace=True)\n",
    "df.isnull().sum()"
   ]
  },
  {
   "cell_type": "code",
   "execution_count": 37,
   "metadata": {},
   "outputs": [
    {
     "name": "stdout",
     "output_type": "stream",
     "text": [
      "the mean of stroke column =  122.0\n",
      "the median of stroke column =  115.0\n"
     ]
    }
   ],
   "source": [
    "# to fix normalized column , firts cahnge its type from object to int\n",
    "df['normalized-losses']=df['normalized-losses'].astype(float)\n",
    "\n",
    "mean_normalized_losses=df['normalized-losses'].mean()\n",
    "median_normalized_losses=df['normalized-losses'].median()\n",
    "\n",
    "print(\"the mean of stroke column = \",mean_normalized_losses)\n",
    "print(\"the median of stroke column = \",median_normalized_losses)\n"
   ]
  },
  {
   "cell_type": "code",
   "execution_count": 38,
   "metadata": {},
   "outputs": [
    {
     "data": {
      "image/png": "[encoded data removed]",
      "text/plain": [
       "<Figure size 640x480 with 1 Axes>"
      ]
     },
     "metadata": {},
     "output_type": "display_data"
    }
   ],
   "source": [
    "plt.hist(df['normalized-losses'], bins=30, color='blue')\n",
    "\n",
    "plt.axvline(x=mean_normalized_losses, color='red',  label='Mean')\n",
    "plt.axvline(x=median_normalized_losses, color='green',  label='Median')\n",
    "\n",
    "plt.xlabel('Values')\n",
    "plt.ylabel('Frequency')\n",
    "plt.legend()\n",
    "\n",
    "plt.show()"
   ]
  },
  {
   "cell_type": "code",
   "execution_count": 39,
   "metadata": {},
   "outputs": [],
   "source": [
    "#depending on the visualization we notice thatthe right chioce is the mean since data is distributed in a better way median<mean\n",
    "df['normalized-losses']=df['normalized-losses'].replace(np.nan,mean_normalized_losses)"
   ]
  },
  {
   "cell_type": "code",
   "execution_count": 40,
   "metadata": {},
   "outputs": [],
   "source": [
    "# number of doors only have 2 missing values, which represent 0.98% of the original data ( out of 204) so we can drop the null values since it doesn't affect the data and other steps\n",
    "df.dropna(subset=['num-of-doors'], inplace=True)"
   ]
  },
  {
   "cell_type": "code",
   "execution_count": 41,
   "metadata": {},
   "outputs": [
    {
     "name": "stdout",
     "output_type": "stream",
     "text": [
      "the mean of stroke column =  3.3302525252525252\n",
      "the median of stroke column =  3.31\n"
     ]
    }
   ],
   "source": [
    "#for bore, first transform its type to float, then replace it with median sice the mean and median are approximatly close\n",
    "df['bore']=df['bore'].astype(float)\n",
    "\n",
    "mean_bore=df['bore'].mean()\n",
    "median_bore=df['bore'].median()\n",
    "\n",
    "print(\"the mean of stroke column = \",mean_bore)\n",
    "print(\"the median of stroke column = \",median_bore)\n",
    "\n",
    "\n",
    "df['bore']=df['bore'].replace(np.nan,median_bore)"
   ]
  },
  {
   "cell_type": "code",
   "execution_count": 42,
   "metadata": {},
   "outputs": [
    {
     "name": "stdout",
     "output_type": "stream",
     "text": [
      "the mean of stroke column =  3.2569696969696964\n",
      "the median of stroke column =  3.29\n"
     ]
    }
   ],
   "source": [
    "#for stroke, first transform its type to float, then replace it with mean since it is slightly larger than the median\n",
    "df['stroke']=df['stroke'].astype(float)\n",
    "\n",
    "mean_stroke=df['stroke'].mean()\n",
    "median_stroke=df['stroke'].median()\n",
    "\n",
    "print(\"the mean of stroke column = \",mean_stroke)\n",
    "print(\"the median of stroke column = \",median_stroke)\n",
    "\n",
    "\n",
    "df['stroke']=df['stroke'].replace(np.nan,mean_stroke)"
   ]
  },
  {
   "cell_type": "code",
   "execution_count": 43,
   "metadata": {},
   "outputs": [
    {
     "name": "stdout",
     "output_type": "stream",
     "text": [
      "the mean of price column =  104.435\n",
      "the median of price column =  95.0\n"
     ]
    },
    {
     "data": {
      "image/png": "[encoded data removed]",
      "text/plain": [
       "<Figure size 640x480 with 1 Axes>"
      ]
     },
     "metadata": {},
     "output_type": "display_data"
    }
   ],
   "source": [
    "#for horsepower, first transform its type to int, then replace it with median since the mean is bigger that the median and our data is positevly skewed\n",
    "df['horsepower']=df['horsepower'].astype(float)\n",
    "\n",
    "mean_horsepower=df['horsepower'].mean()\n",
    "median_horsepower=df['horsepower'].median()\n",
    "\n",
    "print(\"the mean of price column = \",mean_horsepower)\n",
    "print(\"the median of price column = \",median_horsepower)\n",
    "\n",
    "plt.hist(df['horsepower'], bins=30, color='blue')\n",
    "\n",
    "plt.axvline(x=mean_horsepower, color='red',  label='Mean')\n",
    "plt.axvline(x=median_horsepower, color='green',  label='Median')\n",
    "\n",
    "plt.xlabel('Values')\n",
    "plt.ylabel('Frequency')\n",
    "plt.legend()\n",
    "\n",
    "plt.show()\n",
    "\n",
    "df['horsepower']=df['horsepower'].replace(np.nan,median_horsepower)"
   ]
  },
  {
   "cell_type": "code",
   "execution_count": 44,
   "metadata": {},
   "outputs": [
    {
     "name": "stdout",
     "output_type": "stream",
     "text": [
      "the mean of peace-rpm column =  5126.5\n",
      "the median of peak-rpm column =  5200.0\n"
     ]
    },
    {
     "data": {
      "image/png": "[encoded data removed]",
      "text/plain": [
       "<Figure size 640x480 with 1 Axes>"
      ]
     },
     "metadata": {},
     "output_type": "display_data"
    }
   ],
   "source": [
    "#for peak-rpm, first transform its type to float, we notice that the median is bigger than the mean so the data is negatively skewed, then replace it with mean\n",
    "df['peak-rpm']=df['peak-rpm'].astype(float)\n",
    "\n",
    "mean_peak_rpm=df['peak-rpm'].mean()\n",
    "median_peak_rpm=df['peak-rpm'].median()\n",
    "\n",
    "print(\"the mean of peace-rpm column = \",mean_peak_rpm)\n",
    "print(\"the median of peak-rpm column = \",median_peak_rpm)\n",
    "\n",
    "plt.hist(df['peak-rpm'], bins=30, color='blue')\n",
    "\n",
    "plt.axvline(x=mean_peak_rpm, color='red',  label='Mean')\n",
    "plt.axvline(x=median_peak_rpm, color='green',  label='Median')\n",
    "\n",
    "plt.xlabel('Values')\n",
    "plt.ylabel('Frequency')\n",
    "plt.legend()\n",
    "\n",
    "plt.show()\n",
    "\n",
    "df['peak-rpm']=df['peak-rpm'].replace(np.nan,mean_peak_rpm)"
   ]
  },
  {
   "cell_type": "code",
   "execution_count": 45,
   "metadata": {},
   "outputs": [
    {
     "name": "stdout",
     "output_type": "stream",
     "text": [
      "the mean of price column =  13241.338383838383\n",
      "the median of price column =  10270.0\n"
     ]
    }
   ],
   "source": [
    "# for price column, first transform its type from object to float, then replace the misiing value with median sice the mean is smaller than the median so the data is negatively skewed\n",
    "\n",
    "df['price']=df['price'].astype(float)\n",
    "mean_price=df['price'].mean()\n",
    "\n",
    "print(\"the mean of price column = \",mean_price)\n",
    "print(\"the median of price column = \",df['price'].median())\n",
    "\n",
    "df['price']=df['price'].replace(np.nan,mean_price)"
   ]
  },
  {
   "cell_type": "markdown",
   "metadata": {},
   "source": [
    "Now, we fix the data types in order to further the work with the data"
   ]
  },
  {
   "cell_type": "code",
   "execution_count": 46,
   "metadata": {},
   "outputs": [],
   "source": [
    "df[['make','fuel-type','aspiration','body-style','drive-wheels','engine-location','engine-type','fuel-system']]=df[['make','fuel-type','aspiration','body-style','drive-wheels','engine-location','engine-type','fuel-system']].astype('string')\n",
    "\n",
    "df['num-of-doors'].value_counts().unique\n",
    "\n",
    "map_nb_doors = {'four': 4, 'two': 2}\n",
    "\n",
    "df['num-of-doors']=df['num-of-doors'].map(map_nb_doors)\n",
    "df['num-of-doors']=df['num-of-doors'].astype(int)\n",
    "\n",
    "df['num-of-cylinders'].value_counts().unique\n",
    "\n",
    "map_nb_cylinder = {'four': 4, 'two': 2,'six': 6, 'five':5, 'eight': 8, 'three': 3, 'twelve': 12}\n",
    "\n",
    "df['num-of-cylinders']=df['num-of-cylinders'].map(map_nb_cylinder)\n",
    "df['num-of-cylinders']=df['num-of-cylinders'].astype(int)\n",
    "\n"
   ]
  },
  {
   "cell_type": "code",
   "execution_count": 47,
   "metadata": {},
   "outputs": [
    {
     "name": "stdout",
     "output_type": "stream",
     "text": [
      "<class 'pandas.core.frame.DataFrame'>\n",
      "Index: 202 entries, 0 to 203\n",
      "Data columns (total 26 columns):\n",
      " #   Column             Non-Null Count  Dtype  \n",
      "---  ------             --------------  -----  \n",
      " 0   symboling          202 non-null    int64  \n",
      " 1   normalized-losses  202 non-null    float64\n",
      " 2   make               202 non-null    string \n",
      " 3   fuel-type          202 non-null    string \n",
      " 4   aspiration         202 non-null    string \n",
      " 5   num-of-doors       202 non-null    int32  \n",
      " 6   body-style         202 non-null    string \n",
      " 7   drive-wheels       202 non-null    string \n",
      " 8   engine-location    202 non-null    string \n",
      " 9   wheel-base         202 non-null    float64\n",
      " 10  length             202 non-null    float64\n",
      " 11  width              202 non-null    float64\n",
      " 12  height             202 non-null    float64\n",
      " 13  curb-weight        202 non-null    int64  \n",
      " 14  engine-type        202 non-null    string \n",
      " 15  num-of-cylinders   202 non-null    int32  \n",
      " 16  engine-size        202 non-null    int64  \n",
      " 17  fuel-system        202 non-null    string \n",
      " 18  bore               202 non-null    float64\n",
      " 19  stroke             202 non-null    float64\n",
      " 20  compression-ratio  202 non-null    float64\n",
      " 21  horsepower         202 non-null    float64\n",
      " 22  peak-rpm           202 non-null    float64\n",
      " 23  city-mpg           202 non-null    int64  \n",
      " 24  highway-mpg        202 non-null    int64  \n",
      " 25  price              202 non-null    float64\n",
      "dtypes: float64(11), int32(2), int64(5), string(8)\n",
      "memory usage: 41.0 KB\n"
     ]
    }
   ],
   "source": [
    "df.info()"
   ]
  },
  {
   "cell_type": "markdown",
   "metadata": {},
   "source": [
    "After that, we are going to bin the price column into 3 catergories : Low, Medium, High ; using smoothing by means\n"
   ]
  },
  {
   "cell_type": "code",
   "execution_count": 48,
   "metadata": {},
   "outputs": [
    {
     "data": {
      "image/png": "[encoded data removed]",
      "text/plain": [
       "<Figure size 640x480 with 1 Axes>"
      ]
     },
     "metadata": {},
     "output_type": "display_data"
    }
   ],
   "source": [
    "bins_price = np.linspace(min(df['price']), max(df['price']), 4)\n",
    "\n",
    "group_names=['Low', 'Medium', 'High']\n",
    "\n",
    "df['price_binned'] = pd.cut(df['price'],bins=bins_price, labels= group_names, include_lowest=True)\n",
    "\n",
    "plt.hist(df['price_binned'])\n",
    "\n",
    "plt.xlabel('Group')\n",
    "plt.ylabel('frequency')\n",
    "\n",
    "plt.show()\n"
   ]
  },
  {
   "cell_type": "markdown",
   "metadata": {},
   "source": [
    "Then, we need to study the relation between the columns and the class 'price'"
   ]
  },
  {
   "cell_type": "code",
   "execution_count": 49,
   "metadata": {},
   "outputs": [
    {
     "data": {
      "text/html": [
       "<div>\n",
       "<style scoped>\n",
       "    .dataframe tbody tr th:only-of-type {\n",
       "        vertical-align: middle;\n",
       "    }\n",
       "\n",
       "    .dataframe tbody tr th {\n",
       "        vertical-align: top;\n",
       "    }\n",
       "\n",
       "    .dataframe thead th {\n",
       "        text-align: right;\n",
       "    }\n",
       "</style>\n",
       "<table border=\"1\" class=\"dataframe\">\n",
       "  <thead>\n",
       "    <tr style=\"text-align: right;\">\n",
       "      <th></th>\n",
       "      <th>symboling</th>\n",
       "      <th>normalized-losses</th>\n",
       "      <th>num-of-doors</th>\n",
       "      <th>wheel-base</th>\n",
       "      <th>length</th>\n",
       "      <th>width</th>\n",
       "      <th>height</th>\n",
       "      <th>curb-weight</th>\n",
       "      <th>num-of-cylinders</th>\n",
       "      <th>engine-size</th>\n",
       "      <th>bore</th>\n",
       "      <th>stroke</th>\n",
       "      <th>compression-ratio</th>\n",
       "      <th>horsepower</th>\n",
       "      <th>peak-rpm</th>\n",
       "      <th>city-mpg</th>\n",
       "      <th>highway-mpg</th>\n",
       "      <th>price</th>\n",
       "    </tr>\n",
       "  </thead>\n",
       "  <tbody>\n",
       "    <tr>\n",
       "      <th>count</th>\n",
       "      <td>202.000000</td>\n",
       "      <td>202.000000</td>\n",
       "      <td>202.000000</td>\n",
       "      <td>202.000000</td>\n",
       "      <td>202.000000</td>\n",
       "      <td>202.000000</td>\n",
       "      <td>202.000000</td>\n",
       "      <td>202.000000</td>\n",
       "      <td>202.000000</td>\n",
       "      <td>202.000000</td>\n",
       "      <td>202.000000</td>\n",
       "      <td>202.000000</td>\n",
       "      <td>202.000000</td>\n",
       "      <td>202.000000</td>\n",
       "      <td>202.000000</td>\n",
       "      <td>202.000000</td>\n",
       "      <td>202.000000</td>\n",
       "      <td>202.000000</td>\n",
       "    </tr>\n",
       "    <tr>\n",
       "      <th>mean</th>\n",
       "      <td>0.826733</td>\n",
       "      <td>121.871287</td>\n",
       "      <td>3.128713</td>\n",
       "      <td>98.831683</td>\n",
       "      <td>174.139604</td>\n",
       "      <td>65.924257</td>\n",
       "      <td>53.755941</td>\n",
       "      <td>2557.965347</td>\n",
       "      <td>4.386139</td>\n",
       "      <td>127.059406</td>\n",
       "      <td>3.329851</td>\n",
       "      <td>3.256970</td>\n",
       "      <td>10.098614</td>\n",
       "      <td>104.341584</td>\n",
       "      <td>5126.500000</td>\n",
       "      <td>25.193069</td>\n",
       "      <td>30.717822</td>\n",
       "      <td>13241.338384</td>\n",
       "    </tr>\n",
       "    <tr>\n",
       "      <th>std</th>\n",
       "      <td>1.243762</td>\n",
       "      <td>31.863566</td>\n",
       "      <td>0.994146</td>\n",
       "      <td>6.013061</td>\n",
       "      <td>12.364039</td>\n",
       "      <td>2.151791</td>\n",
       "      <td>2.423638</td>\n",
       "      <td>523.854860</td>\n",
       "      <td>1.087883</td>\n",
       "      <td>41.900456</td>\n",
       "      <td>0.271838</td>\n",
       "      <td>0.313019</td>\n",
       "      <td>3.897109</td>\n",
       "      <td>39.719128</td>\n",
       "      <td>478.542304</td>\n",
       "      <td>6.539383</td>\n",
       "      <td>6.886758</td>\n",
       "      <td>7918.561021</td>\n",
       "    </tr>\n",
       "    <tr>\n",
       "      <th>min</th>\n",
       "      <td>-2.000000</td>\n",
       "      <td>65.000000</td>\n",
       "      <td>2.000000</td>\n",
       "      <td>86.600000</td>\n",
       "      <td>141.100000</td>\n",
       "      <td>60.300000</td>\n",
       "      <td>47.800000</td>\n",
       "      <td>1488.000000</td>\n",
       "      <td>2.000000</td>\n",
       "      <td>61.000000</td>\n",
       "      <td>2.540000</td>\n",
       "      <td>2.070000</td>\n",
       "      <td>7.000000</td>\n",
       "      <td>48.000000</td>\n",
       "      <td>4150.000000</td>\n",
       "      <td>13.000000</td>\n",
       "      <td>16.000000</td>\n",
       "      <td>5118.000000</td>\n",
       "    </tr>\n",
       "    <tr>\n",
       "      <th>25%</th>\n",
       "      <td>0.000000</td>\n",
       "      <td>101.000000</td>\n",
       "      <td>2.000000</td>\n",
       "      <td>94.500000</td>\n",
       "      <td>166.425000</td>\n",
       "      <td>64.125000</td>\n",
       "      <td>52.000000</td>\n",
       "      <td>2145.000000</td>\n",
       "      <td>4.000000</td>\n",
       "      <td>97.000000</td>\n",
       "      <td>3.150000</td>\n",
       "      <td>3.110000</td>\n",
       "      <td>8.600000</td>\n",
       "      <td>70.000000</td>\n",
       "      <td>4800.000000</td>\n",
       "      <td>19.000000</td>\n",
       "      <td>25.000000</td>\n",
       "      <td>7778.250000</td>\n",
       "    </tr>\n",
       "    <tr>\n",
       "      <th>50%</th>\n",
       "      <td>1.000000</td>\n",
       "      <td>122.000000</td>\n",
       "      <td>4.000000</td>\n",
       "      <td>97.000000</td>\n",
       "      <td>173.200000</td>\n",
       "      <td>65.500000</td>\n",
       "      <td>54.100000</td>\n",
       "      <td>2414.000000</td>\n",
       "      <td>4.000000</td>\n",
       "      <td>119.500000</td>\n",
       "      <td>3.310000</td>\n",
       "      <td>3.290000</td>\n",
       "      <td>9.000000</td>\n",
       "      <td>95.000000</td>\n",
       "      <td>5200.000000</td>\n",
       "      <td>24.000000</td>\n",
       "      <td>30.000000</td>\n",
       "      <td>10470.000000</td>\n",
       "    </tr>\n",
       "    <tr>\n",
       "      <th>75%</th>\n",
       "      <td>2.000000</td>\n",
       "      <td>137.000000</td>\n",
       "      <td>4.000000</td>\n",
       "      <td>102.400000</td>\n",
       "      <td>183.400000</td>\n",
       "      <td>66.900000</td>\n",
       "      <td>55.500000</td>\n",
       "      <td>2947.750000</td>\n",
       "      <td>4.000000</td>\n",
       "      <td>144.000000</td>\n",
       "      <td>3.587500</td>\n",
       "      <td>3.410000</td>\n",
       "      <td>9.400000</td>\n",
       "      <td>116.000000</td>\n",
       "      <td>5500.000000</td>\n",
       "      <td>30.000000</td>\n",
       "      <td>34.000000</td>\n",
       "      <td>16500.000000</td>\n",
       "    </tr>\n",
       "    <tr>\n",
       "      <th>max</th>\n",
       "      <td>3.000000</td>\n",
       "      <td>256.000000</td>\n",
       "      <td>4.000000</td>\n",
       "      <td>120.900000</td>\n",
       "      <td>208.100000</td>\n",
       "      <td>72.300000</td>\n",
       "      <td>59.800000</td>\n",
       "      <td>4066.000000</td>\n",
       "      <td>12.000000</td>\n",
       "      <td>326.000000</td>\n",
       "      <td>3.940000</td>\n",
       "      <td>4.170000</td>\n",
       "      <td>23.000000</td>\n",
       "      <td>288.000000</td>\n",
       "      <td>6600.000000</td>\n",
       "      <td>49.000000</td>\n",
       "      <td>54.000000</td>\n",
       "      <td>45400.000000</td>\n",
       "    </tr>\n",
       "  </tbody>\n",
       "</table>\n",
       "</div>"
      ],
      "text/plain": [
       "        symboling  normalized-losses  num-of-doors  wheel-base      length  \\\n",
       "count  202.000000         202.000000    202.000000  202.000000  202.000000   \n",
       "mean     0.826733         121.871287      3.128713   98.831683  174.139604   \n",
       "std      1.243762          31.863566      0.994146    6.013061   12.364039   \n",
       "min     -2.000000          65.000000      2.000000   86.600000  141.100000   \n",
       "25%      0.000000         101.000000      2.000000   94.500000  166.425000   \n",
       "50%      1.000000         122.000000      4.000000   97.000000  173.200000   \n",
       "75%      2.000000         137.000000      4.000000  102.400000  183.400000   \n",
       "max      3.000000         256.000000      4.000000  120.900000  208.100000   \n",
       "\n",
       "            width      height  curb-weight  num-of-cylinders  engine-size  \\\n",
       "count  202.000000  202.000000   202.000000        202.000000   202.000000   \n",
       "mean    65.924257   53.755941  2557.965347          4.386139   127.059406   \n",
       "std      2.151791    2.423638   523.854860          1.087883    41.900456   \n",
       "min     60.300000   47.800000  1488.000000          2.000000    61.000000   \n",
       "25%     64.125000   52.000000  2145.000000          4.000000    97.000000   \n",
       "50%     65.500000   54.100000  2414.000000          4.000000   119.500000   \n",
       "75%     66.900000   55.500000  2947.750000          4.000000   144.000000   \n",
       "max     72.300000   59.800000  4066.000000         12.000000   326.000000   \n",
       "\n",
       "             bore      stroke  compression-ratio  horsepower     peak-rpm  \\\n",
       "count  202.000000  202.000000         202.000000  202.000000   202.000000   \n",
       "mean     3.329851    3.256970          10.098614  104.341584  5126.500000   \n",
       "std      0.271838    0.313019           3.897109   39.719128   478.542304   \n",
       "min      2.540000    2.070000           7.000000   48.000000  4150.000000   \n",
       "25%      3.150000    3.110000           8.600000   70.000000  4800.000000   \n",
       "50%      3.310000    3.290000           9.000000   95.000000  5200.000000   \n",
       "75%      3.587500    3.410000           9.400000  116.000000  5500.000000   \n",
       "max      3.940000    4.170000          23.000000  288.000000  6600.000000   \n",
       "\n",
       "         city-mpg  highway-mpg         price  \n",
       "count  202.000000   202.000000    202.000000  \n",
       "mean    25.193069    30.717822  13241.338384  \n",
       "std      6.539383     6.886758   7918.561021  \n",
       "min     13.000000    16.000000   5118.000000  \n",
       "25%     19.000000    25.000000   7778.250000  \n",
       "50%     24.000000    30.000000  10470.000000  \n",
       "75%     30.000000    34.000000  16500.000000  \n",
       "max     49.000000    54.000000  45400.000000  "
      ]
     },
     "execution_count": 49,
     "metadata": {},
     "output_type": "execute_result"
    }
   ],
   "source": [
    "# In order to understand the data better\n",
    "df.describe()"
   ]
  },
  {
   "cell_type": "code",
   "execution_count": 50,
   "metadata": {},
   "outputs": [
    {
     "name": "stdout",
     "output_type": "stream",
     "text": [
      "                price  engine-size  highway-mpg  peak-rpm    stroke\n",
      "price        1.000000     0.861549    -0.694076 -0.100506  0.085146\n",
      "engine-size  0.861549     1.000000    -0.682525 -0.243718  0.207491\n",
      "highway-mpg -0.694076    -0.682525     1.000000 -0.047084 -0.053026\n",
      "peak-rpm    -0.100506    -0.243718    -0.047084  1.000000 -0.069475\n",
      "stroke       0.085146     0.207491    -0.053026 -0.069475  1.000000\n"
     ]
    },
    {
     "data": {
      "image/png": "[encoded data removed]",
      "text/plain": [
       "<Figure size 640x480 with 2 Axes>"
      ]
     },
     "metadata": {},
     "output_type": "display_data"
    }
   ],
   "source": [
    "corr_pearson=df[['price','engine-size','highway-mpg', 'peak-rpm', 'stroke']].corr(method='pearson')\n",
    "print(corr_pearson)\n",
    "heatmap_pearson= sns.heatmap(data=corr_pearson)"
   ]
  },
  {
   "cell_type": "markdown",
   "metadata": {},
   "source": [
    "We notice the highest correlation is between the 'price' and 'engine size', and after the visulization of scatter plot we notice it is a strong positive correlation"
   ]
  },
  {
   "cell_type": "code",
   "execution_count": 51,
   "metadata": {},
   "outputs": [
    {
     "data": {
      "image/png": "[encoded data removed]",
      "text/plain": [
       "<Figure size 640x480 with 1 Axes>"
      ]
     },
     "metadata": {},
     "output_type": "display_data"
    }
   ],
   "source": [
    "plt.scatter(df['engine-size'], df['price']) \n",
    "plt.title('Scatterplot of Enginesize vs Price') \n",
    "plt.xlabel('Engine size') \n",
    "plt.ylabel('Price') \n",
    "plt.show() "
   ]
  },
  {
   "cell_type": "code",
   "execution_count": 52,
   "metadata": {},
   "outputs": [
    {
     "name": "stdout",
     "output_type": "stream",
     "text": [
      "drive-wheels  body-style \n",
      "fwd           hardtop         8249.000000\n",
      "              hatchback       8396.387755\n",
      "4wd           wagon           9095.750000\n",
      "fwd           sedan           9941.430487\n",
      "              wagon           9997.333333\n",
      "4wd           hatchback      10422.169192\n",
      "fwd           convertible    11595.000000\n",
      "4wd           sedan          12647.333333\n",
      "rwd           hatchback      14280.070441\n",
      "              wagon          16994.222222\n",
      "              sedan          21711.833333\n",
      "              hardtop        24202.714286\n",
      "              convertible    26563.250000\n",
      "Name: price, dtype: float64  \n",
      " so the car having rwd drive wheels with convertible body style is the most expensive\n"
     ]
    }
   ],
   "source": [
    "combination=['drive-wheels','body-style']\n",
    "values_combination=df.groupby(combination)['price'].mean().sort_values()\n",
    "print(values_combination,\" \\n so the car having rwd drive wheels with convertible body style is the most expensive\")"
   ]
  }
 ],
 "metadata": {
  "kernelspec": {
   "display_name": "Python 3",
   "language": "python",
   "name": "python3"
  },
  "language_info": {
   "codemirror_mode": {
    "name": "ipython",
    "version": 3
   },
   "file_extension": ".py",
   "mimetype": "text/x-python",
   "name": "python",
   "nbconvert_exporter": "python",
   "pygments_lexer": "ipython3",
   "version": "3.12.0"
  }
 },
 "nbformat": 4,
 "nbformat_minor": 2
}
